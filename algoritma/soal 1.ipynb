{
 "cells": [
  {
   "cell_type": "markdown",
   "metadata": {},
   "source": [
    "Terdapat string \"NEGIE1\", silahkan reverse alphabet nya dengan angka tetap diakhir kata Hasil = \"EIGEN1\""
   ]
  },
  {
   "cell_type": "code",
   "execution_count": 1,
   "metadata": {},
   "outputs": [],
   "source": [
    "word = \"NEGIE1\""
   ]
  },
  {
   "cell_type": "code",
   "execution_count": 2,
   "metadata": {},
   "outputs": [
    {
     "name": "stdout",
     "output_type": "stream",
     "text": [
      "EIGEN1\n"
     ]
    }
   ],
   "source": [
    "def reverse_without_numbers(word):\n",
    "    # reverse the word except the numbers in the string\n",
    "    reversed_word = word[::-1]\n",
    "    # delete the numbers in the string\n",
    "    reversed_word = ''.join([i for i in reversed_word if not i.isdigit()])\n",
    "    # get the indexes of the numbers in the string\n",
    "    indexes = [i for i, c in enumerate(word) if c.isdigit()]\n",
    "    # insert the numbers back to their original positions\n",
    "    for i in indexes:\n",
    "        reversed_word = reversed_word[:i] + word[i] + reversed_word[i:]\n",
    "    return reversed_word\n",
    "\n",
    "print(reverse_without_numbers(word))"
   ]
  }
 ],
 "metadata": {
  "kernelspec": {
   "display_name": "Python 3",
   "language": "python",
   "name": "python3"
  },
  "language_info": {
   "codemirror_mode": {
    "name": "ipython",
    "version": 3
   },
   "file_extension": ".py",
   "mimetype": "text/x-python",
   "name": "python",
   "nbconvert_exporter": "python",
   "pygments_lexer": "ipython3",
   "version": "3.10.11"
  }
 },
 "nbformat": 4,
 "nbformat_minor": 2
}
