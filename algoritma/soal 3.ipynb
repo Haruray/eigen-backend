{
 "cells": [
  {
   "cell_type": "markdown",
   "metadata": {},
   "source": [
    "Terdapat dua buah array yaitu array INPUT dan array QUERY, silahkan tentukan berapa kali kata dalam QUERY terdapat pada array INPUT"
   ]
  },
  {
   "cell_type": "code",
   "execution_count": 1,
   "metadata": {},
   "outputs": [],
   "source": [
    "INPUT = [\"xc\", \"dz\", \"bbb\", \"dz\"]\n",
    "QUERY = [\"bbb\", \"ac\", \"dz\"]"
   ]
  },
  {
   "cell_type": "code",
   "execution_count": 2,
   "metadata": {},
   "outputs": [
    {
     "name": "stdout",
     "output_type": "stream",
     "text": [
      "[1, 0, 2]\n"
     ]
    }
   ],
   "source": [
    "def count_query_in_input(input, query):\n",
    "    # count element occurences in input\n",
    "    input_dict = {}\n",
    "    for element in input:\n",
    "        if element in input_dict:\n",
    "            input_dict[element] += 1\n",
    "        else:\n",
    "            input_dict[element] = 1\n",
    "\n",
    "    # count occurences of query elements in input\n",
    "    result = []\n",
    "    for element in query:\n",
    "        if element in input_dict:\n",
    "            result.append(input_dict[element])\n",
    "        else:\n",
    "            result.append(0)\n",
    "    return result\n",
    "\n",
    "print(count_query_in_input(INPUT, QUERY))"
   ]
  }
 ],
 "metadata": {
  "kernelspec": {
   "display_name": "Python 3",
   "language": "python",
   "name": "python3"
  },
  "language_info": {
   "codemirror_mode": {
    "name": "ipython",
    "version": 3
   },
   "file_extension": ".py",
   "mimetype": "text/x-python",
   "name": "python",
   "nbconvert_exporter": "python",
   "pygments_lexer": "ipython3",
   "version": "3.10.11"
  }
 },
 "nbformat": 4,
 "nbformat_minor": 2
}
