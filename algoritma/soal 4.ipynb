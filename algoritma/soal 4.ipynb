{
 "cells": [
  {
   "cell_type": "markdown",
   "metadata": {},
   "source": [
    "Silahkan cari hasil dari pengurangan dari jumlah diagonal sebuah matrik NxN Contoh:"
   ]
  },
  {
   "cell_type": "code",
   "execution_count": 5,
   "metadata": {},
   "outputs": [],
   "source": [
    "Matrix = [[1, 2, 0], [4, 5, 6], [7, 8, 9]]"
   ]
  },
  {
   "cell_type": "code",
   "execution_count": 6,
   "metadata": {},
   "outputs": [
    {
     "name": "stdout",
     "output_type": "stream",
     "text": [
      "3\n"
     ]
    }
   ],
   "source": [
    "def diagonal_sum_substraction(matrix):\n",
    "    sum_1 = 0\n",
    "    sum_2 = 0\n",
    "    for (i, j) in zip(range(len(matrix)), range(len(matrix)-1, -1, -1)):\n",
    "        sum_1 += matrix[i][i]\n",
    "        sum_2 += matrix[i][j]\n",
    "    return sum_1 - sum_2\n",
    "\n",
    "print(diagonal_sum_substraction(Matrix))"
   ]
  }
 ],
 "metadata": {
  "kernelspec": {
   "display_name": "Python 3",
   "language": "python",
   "name": "python3"
  },
  "language_info": {
   "codemirror_mode": {
    "name": "ipython",
    "version": 3
   },
   "file_extension": ".py",
   "mimetype": "text/x-python",
   "name": "python",
   "nbconvert_exporter": "python",
   "pygments_lexer": "ipython3",
   "version": "3.10.11"
  }
 },
 "nbformat": 4,
 "nbformat_minor": 2
}
